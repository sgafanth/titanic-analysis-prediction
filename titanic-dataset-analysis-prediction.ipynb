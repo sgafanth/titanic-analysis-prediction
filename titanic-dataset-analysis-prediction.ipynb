{
 "cells": [
  {
   "cell_type": "code",
   "execution_count": 1,
   "id": "8cbeb30e",
   "metadata": {
    "_cell_guid": "b1076dfc-b9ad-4769-8c92-a6c4dae69d19",
    "_uuid": "8f2839f25d086af736a60e9eeb907d3b93b6e0e5",
    "execution": {
     "iopub.execute_input": "2023-11-03T20:03:51.492336Z",
     "iopub.status.busy": "2023-11-03T20:03:51.491385Z",
     "iopub.status.idle": "2023-11-03T20:03:51.993225Z",
     "shell.execute_reply": "2023-11-03T20:03:51.991905Z"
    },
    "papermill": {
     "duration": 0.51865,
     "end_time": "2023-11-03T20:03:51.997999",
     "exception": false,
     "start_time": "2023-11-03T20:03:51.479349",
     "status": "completed"
    },
    "tags": []
   },
   "outputs": [
    {
     "name": "stdout",
     "output_type": "stream",
     "text": [
      "/kaggle/input/titanic/train.csv\n",
      "/kaggle/input/titanic/test.csv\n",
      "/kaggle/input/titanic/gender_submission.csv\n"
     ]
    }
   ],
   "source": [
    "# This Python 3 environment comes with many helpful analytics libraries installed\n",
    "# It is defined by the kaggle/python Docker image: https://github.com/kaggle/docker-python\n",
    "# For example, here's several helpful packages to load\n",
    "\n",
    "import numpy as np # linear algebra\n",
    "import pandas as pd # data processing, CSV file I/O (e.g. pd.read_csv)\n",
    "\n",
    "# Input data files are available in the read-only \"../input/\" directory\n",
    "# For example, running this (by clicking run or pressing Shift+Enter) will list all files under the input directory\n",
    "\n",
    "import os\n",
    "for dirname, _, filenames in os.walk('/kaggle/input'):\n",
    "    for filename in filenames:\n",
    "        print(os.path.join(dirname, filename))\n",
    "\n",
    "# You can write up to 20GB to the current directory (/kaggle/working/) that gets preserved as output when you create a version using \"Save & Run All\" \n",
    "# You can also write temporary files to /kaggle/temp/, but they won't be saved outside of the current session"
   ]
  },
  {
   "cell_type": "code",
   "execution_count": 2,
   "id": "054ec4b6",
   "metadata": {
    "execution": {
     "iopub.execute_input": "2023-11-03T20:03:52.019287Z",
     "iopub.status.busy": "2023-11-03T20:03:52.018705Z",
     "iopub.status.idle": "2023-11-03T20:03:53.767824Z",
     "shell.execute_reply": "2023-11-03T20:03:53.766546Z"
    },
    "papermill": {
     "duration": 1.763885,
     "end_time": "2023-11-03T20:03:53.771240",
     "exception": false,
     "start_time": "2023-11-03T20:03:52.007355",
     "status": "completed"
    },
    "tags": []
   },
   "outputs": [],
   "source": [
    "import seaborn as sns\n",
    "import matplotlib.pyplot as plt\n",
    "%matplotlib inline"
   ]
  },
  {
   "cell_type": "code",
   "execution_count": 3,
   "id": "d35847c2",
   "metadata": {
    "execution": {
     "iopub.execute_input": "2023-11-03T20:03:53.790587Z",
     "iopub.status.busy": "2023-11-03T20:03:53.790174Z",
     "iopub.status.idle": "2023-11-03T20:03:53.828665Z",
     "shell.execute_reply": "2023-11-03T20:03:53.827458Z"
    },
    "papermill": {
     "duration": 0.051406,
     "end_time": "2023-11-03T20:03:53.831552",
     "exception": false,
     "start_time": "2023-11-03T20:03:53.780146",
     "status": "completed"
    },
    "tags": []
   },
   "outputs": [],
   "source": [
    "train = pd.read_csv('/kaggle/input/titanic/train.csv', sep=',')\n",
    "test = pd.read_csv('/kaggle/input/titanic/test.csv', sep=',')"
   ]
  },
  {
   "cell_type": "code",
   "execution_count": 4,
   "id": "d29f99f5",
   "metadata": {
    "execution": {
     "iopub.execute_input": "2023-11-03T20:03:53.851587Z",
     "iopub.status.busy": "2023-11-03T20:03:53.850354Z",
     "iopub.status.idle": "2023-11-03T20:03:53.861627Z",
     "shell.execute_reply": "2023-11-03T20:03:53.860326Z"
    },
    "papermill": {
     "duration": 0.024289,
     "end_time": "2023-11-03T20:03:53.864680",
     "exception": false,
     "start_time": "2023-11-03T20:03:53.840391",
     "status": "completed"
    },
    "tags": []
   },
   "outputs": [],
   "source": [
    "test_ids = test['PassengerId']"
   ]
  },
  {
   "cell_type": "code",
   "execution_count": 5,
   "id": "3df34576",
   "metadata": {
    "execution": {
     "iopub.execute_input": "2023-11-03T20:03:53.885710Z",
     "iopub.status.busy": "2023-11-03T20:03:53.884667Z",
     "iopub.status.idle": "2023-11-03T20:03:53.890072Z",
     "shell.execute_reply": "2023-11-03T20:03:53.888736Z"
    },
    "papermill": {
     "duration": 0.018839,
     "end_time": "2023-11-03T20:03:53.892420",
     "exception": false,
     "start_time": "2023-11-03T20:03:53.873581",
     "status": "completed"
    },
    "tags": []
   },
   "outputs": [],
   "source": [
    "# from ydata_profiling import ProfileReport\n",
    "# profile = ProfileReport(train, title=\"Profiling Report\")\n",
    "# profile.to_notebook_iframe()"
   ]
  },
  {
   "cell_type": "markdown",
   "id": "4ca774b2",
   "metadata": {
    "papermill": {
     "duration": 0.008479,
     "end_time": "2023-11-03T20:03:53.909299",
     "exception": false,
     "start_time": "2023-11-03T20:03:53.900820",
     "status": "completed"
    },
    "tags": []
   },
   "source": [
    "### Drop unnecessary columns:\n",
    "- Name\n",
    "- Ticket\n",
    "- Cabin\n",
    "- PassengerId"
   ]
  },
  {
   "cell_type": "code",
   "execution_count": 6,
   "id": "b139261f",
   "metadata": {
    "execution": {
     "iopub.execute_input": "2023-11-03T20:03:53.928511Z",
     "iopub.status.busy": "2023-11-03T20:03:53.928051Z",
     "iopub.status.idle": "2023-11-03T20:03:53.946196Z",
     "shell.execute_reply": "2023-11-03T20:03:53.945199Z"
    },
    "papermill": {
     "duration": 0.03115,
     "end_time": "2023-11-03T20:03:53.948966",
     "exception": false,
     "start_time": "2023-11-03T20:03:53.917816",
     "status": "completed"
    },
    "tags": []
   },
   "outputs": [],
   "source": [
    "train.drop(columns=['Name','Ticket','Cabin','PassengerId'],inplace=True)\n",
    "test.drop(columns=['Name','Ticket','Cabin','PassengerId'],inplace=True)"
   ]
  },
  {
   "cell_type": "code",
   "execution_count": 7,
   "id": "4fc16d36",
   "metadata": {
    "execution": {
     "iopub.execute_input": "2023-11-03T20:03:53.969352Z",
     "iopub.status.busy": "2023-11-03T20:03:53.968135Z",
     "iopub.status.idle": "2023-11-03T20:03:53.973829Z",
     "shell.execute_reply": "2023-11-03T20:03:53.972667Z"
    },
    "papermill": {
     "duration": 0.018584,
     "end_time": "2023-11-03T20:03:53.976292",
     "exception": false,
     "start_time": "2023-11-03T20:03:53.957708",
     "status": "completed"
    },
    "tags": []
   },
   "outputs": [],
   "source": [
    "# train['Sex'].replace('female',0,inplace=True)\n",
    "# train['Sex'].replace('male',1,inplace=True)"
   ]
  },
  {
   "cell_type": "markdown",
   "id": "c32f9017",
   "metadata": {
    "papermill": {
     "duration": 0.008252,
     "end_time": "2023-11-03T20:03:53.993267",
     "exception": false,
     "start_time": "2023-11-03T20:03:53.985015",
     "status": "completed"
    },
    "tags": []
   },
   "source": [
    "### Impute Missing Values in Age"
   ]
  },
  {
   "cell_type": "code",
   "execution_count": 8,
   "id": "70a72592",
   "metadata": {
    "execution": {
     "iopub.execute_input": "2023-11-03T20:03:54.015095Z",
     "iopub.status.busy": "2023-11-03T20:03:54.014064Z",
     "iopub.status.idle": "2023-11-03T20:03:54.586712Z",
     "shell.execute_reply": "2023-11-03T20:03:54.585229Z"
    },
    "papermill": {
     "duration": 0.587336,
     "end_time": "2023-11-03T20:03:54.589835",
     "exception": false,
     "start_time": "2023-11-03T20:03:54.002499",
     "status": "completed"
    },
    "tags": []
   },
   "outputs": [],
   "source": [
    "from sklearn.experimental import enable_iterative_imputer\n",
    "from sklearn.impute import IterativeImputer, SimpleImputer\n",
    "# Iterative Imputation\n",
    "iter_imputer = IterativeImputer(random_state=42)\n",
    "iter_imputer.fit(np.array(train['Age']).reshape(-1, 1))\n",
    "train['Age'] = iter_imputer.transform(np.array(train['Age']).reshape(-1, 1))\n",
    "test['Age'] = iter_imputer.transform(np.array(test['Age']).reshape(-1, 1))\n",
    "\n",
    "imp_median = SimpleImputer(missing_values=np.nan, strategy='median')\n",
    "imp_median.fit(np.array(train['Fare']).reshape(-1, 1))\n",
    "train['Fare'] = imp_median.transform(np.array(train['Fare']).reshape(-1, 1))\n",
    "test['Fare'] = imp_median.transform(np.array(test['Fare']).reshape(-1, 1))"
   ]
  },
  {
   "cell_type": "code",
   "execution_count": 9,
   "id": "cfa71f7d",
   "metadata": {
    "execution": {
     "iopub.execute_input": "2023-11-03T20:03:54.608690Z",
     "iopub.status.busy": "2023-11-03T20:03:54.608295Z",
     "iopub.status.idle": "2023-11-03T20:03:54.616557Z",
     "shell.execute_reply": "2023-11-03T20:03:54.615246Z"
    },
    "papermill": {
     "duration": 0.020716,
     "end_time": "2023-11-03T20:03:54.619100",
     "exception": false,
     "start_time": "2023-11-03T20:03:54.598384",
     "status": "completed"
    },
    "tags": []
   },
   "outputs": [],
   "source": [
    "Y_train = train.loc[:, train.columns == 'Survived']\n",
    "X_train = train.loc[:, train.columns != 'Survived']\n",
    "X_test = test"
   ]
  },
  {
   "cell_type": "code",
   "execution_count": 10,
   "id": "751c2b2b",
   "metadata": {
    "execution": {
     "iopub.execute_input": "2023-11-03T20:03:54.638581Z",
     "iopub.status.busy": "2023-11-03T20:03:54.638108Z",
     "iopub.status.idle": "2023-11-03T20:03:54.655509Z",
     "shell.execute_reply": "2023-11-03T20:03:54.654261Z"
    },
    "papermill": {
     "duration": 0.030607,
     "end_time": "2023-11-03T20:03:54.658317",
     "exception": false,
     "start_time": "2023-11-03T20:03:54.627710",
     "status": "completed"
    },
    "tags": []
   },
   "outputs": [],
   "source": [
    "cols_to_encode = [\n",
    "                    \"Sex\",\n",
    "                    \"Embarked\"\n",
    "                ]\n",
    "X_train = pd.get_dummies(X_train, columns = cols_to_encode)\n",
    "X_test = pd.get_dummies(X_test, columns = cols_to_encode)\n",
    "# X = X.drop(cols_to_encode, axis=1)\n",
    "# X = pd.concat([X, dummies], axis=1)"
   ]
  },
  {
   "cell_type": "code",
   "execution_count": 11,
   "id": "179b9706",
   "metadata": {
    "execution": {
     "iopub.execute_input": "2023-11-03T20:03:54.678267Z",
     "iopub.status.busy": "2023-11-03T20:03:54.677744Z",
     "iopub.status.idle": "2023-11-03T20:03:54.693242Z",
     "shell.execute_reply": "2023-11-03T20:03:54.691834Z"
    },
    "papermill": {
     "duration": 0.028862,
     "end_time": "2023-11-03T20:03:54.696052",
     "exception": false,
     "start_time": "2023-11-03T20:03:54.667190",
     "status": "completed"
    },
    "tags": []
   },
   "outputs": [
    {
     "data": {
      "text/plain": [
       "Pclass       -0.630548\n",
       "Age           0.434488\n",
       "SibSp         3.695352\n",
       "Parch         2.749117\n",
       "Fare          4.787317\n",
       "Sex_female    0.618921\n",
       "Sex_male     -0.618921\n",
       "Embarked_C    1.595149\n",
       "Embarked_Q    2.948778\n",
       "Embarked_S   -0.997083\n",
       "dtype: float64"
      ]
     },
     "execution_count": 11,
     "metadata": {},
     "output_type": "execute_result"
    }
   ],
   "source": [
    "X_train.skew()"
   ]
  },
  {
   "cell_type": "code",
   "execution_count": 12,
   "id": "81417ca3",
   "metadata": {
    "execution": {
     "iopub.execute_input": "2023-11-03T20:03:54.716940Z",
     "iopub.status.busy": "2023-11-03T20:03:54.716504Z",
     "iopub.status.idle": "2023-11-03T20:03:54.726184Z",
     "shell.execute_reply": "2023-11-03T20:03:54.724679Z"
    },
    "papermill": {
     "duration": 0.02377,
     "end_time": "2023-11-03T20:03:54.729307",
     "exception": false,
     "start_time": "2023-11-03T20:03:54.705537",
     "status": "completed"
    },
    "tags": []
   },
   "outputs": [
    {
     "data": {
      "text/plain": [
       "False"
      ]
     },
     "execution_count": 12,
     "metadata": {},
     "output_type": "execute_result"
    }
   ],
   "source": [
    "X_test['Fare'].isnull().values.any()"
   ]
  },
  {
   "cell_type": "code",
   "execution_count": 13,
   "id": "b5c68ce7",
   "metadata": {
    "execution": {
     "iopub.execute_input": "2023-11-03T20:03:54.751998Z",
     "iopub.status.busy": "2023-11-03T20:03:54.750787Z",
     "iopub.status.idle": "2023-11-03T20:03:54.770715Z",
     "shell.execute_reply": "2023-11-03T20:03:54.769506Z"
    },
    "papermill": {
     "duration": 0.034391,
     "end_time": "2023-11-03T20:03:54.773675",
     "exception": false,
     "start_time": "2023-11-03T20:03:54.739284",
     "status": "completed"
    },
    "tags": []
   },
   "outputs": [],
   "source": [
    "from sklearn.preprocessing import QuantileTransformer\n",
    "qt = QuantileTransformer(n_quantiles=302, output_distribution='normal')\n",
    "qt.fit(np.array(X_train['Fare']).reshape(-1, 1))\n",
    "X_train.loc[:,'Fare'] = qt.transform(np.array(X_train['Fare']).reshape(-1, 1))\n",
    "X_test.loc[:,'Fare'] = qt.transform(np.array(X_test['Fare']).reshape(-1, 1))"
   ]
  },
  {
   "cell_type": "code",
   "execution_count": 14,
   "id": "f2571708",
   "metadata": {
    "execution": {
     "iopub.execute_input": "2023-11-03T20:03:54.794696Z",
     "iopub.status.busy": "2023-11-03T20:03:54.794294Z",
     "iopub.status.idle": "2023-11-03T20:03:54.817319Z",
     "shell.execute_reply": "2023-11-03T20:03:54.815662Z"
    },
    "papermill": {
     "duration": 0.037414,
     "end_time": "2023-11-03T20:03:54.820250",
     "exception": false,
     "start_time": "2023-11-03T20:03:54.782836",
     "status": "completed"
    },
    "tags": []
   },
   "outputs": [],
   "source": [
    "from sklearn.preprocessing import StandardScaler\n",
    "columns = X_train.columns\n",
    "\n",
    "#data preprocessing\n",
    "numeric_columns = ['Age', 'Fare']\n",
    "\n",
    "# Create a StandardScaler instance\n",
    "scaler = StandardScaler()\n",
    "# features = X_train[col_names]\n",
    "# scaler = StandardScaler().fit(features.values)\n",
    "# features = scaler.transform(features.values)\n",
    "\n",
    "# Fit the scaler on the data and transform the selected columns\n",
    "scaler.fit(X_train[numeric_columns])\n",
    "X_train.loc[:,numeric_columns] = scaler.transform(X_train[numeric_columns])\n",
    "X_train.columns = columns\n",
    "X_test.loc[:,numeric_columns] = scaler.transform(X_test[numeric_columns])\n",
    "X_test.columns = columns"
   ]
  },
  {
   "cell_type": "code",
   "execution_count": 15,
   "id": "06f4f91d",
   "metadata": {
    "execution": {
     "iopub.execute_input": "2023-11-03T20:03:54.840708Z",
     "iopub.status.busy": "2023-11-03T20:03:54.840296Z",
     "iopub.status.idle": "2023-11-03T20:03:54.870156Z",
     "shell.execute_reply": "2023-11-03T20:03:54.868977Z"
    },
    "papermill": {
     "duration": 0.043375,
     "end_time": "2023-11-03T20:03:54.872969",
     "exception": false,
     "start_time": "2023-11-03T20:03:54.829594",
     "status": "completed"
    },
    "tags": []
   },
   "outputs": [
    {
     "data": {
      "text/html": [
       "<div>\n",
       "<style scoped>\n",
       "    .dataframe tbody tr th:only-of-type {\n",
       "        vertical-align: middle;\n",
       "    }\n",
       "\n",
       "    .dataframe tbody tr th {\n",
       "        vertical-align: top;\n",
       "    }\n",
       "\n",
       "    .dataframe thead th {\n",
       "        text-align: right;\n",
       "    }\n",
       "</style>\n",
       "<table border=\"1\" class=\"dataframe\">\n",
       "  <thead>\n",
       "    <tr style=\"text-align: right;\">\n",
       "      <th></th>\n",
       "      <th>Pclass</th>\n",
       "      <th>Age</th>\n",
       "      <th>SibSp</th>\n",
       "      <th>Parch</th>\n",
       "      <th>Fare</th>\n",
       "      <th>Sex_female</th>\n",
       "      <th>Sex_male</th>\n",
       "      <th>Embarked_C</th>\n",
       "      <th>Embarked_Q</th>\n",
       "      <th>Embarked_S</th>\n",
       "    </tr>\n",
       "  </thead>\n",
       "  <tbody>\n",
       "    <tr>\n",
       "      <th>0</th>\n",
       "      <td>3</td>\n",
       "      <td>-0.592481</td>\n",
       "      <td>1</td>\n",
       "      <td>0</td>\n",
       "      <td>-1.124773</td>\n",
       "      <td>False</td>\n",
       "      <td>True</td>\n",
       "      <td>False</td>\n",
       "      <td>False</td>\n",
       "      <td>True</td>\n",
       "    </tr>\n",
       "    <tr>\n",
       "      <th>1</th>\n",
       "      <td>1</td>\n",
       "      <td>0.638789</td>\n",
       "      <td>1</td>\n",
       "      <td>0</td>\n",
       "      <td>1.038392</td>\n",
       "      <td>True</td>\n",
       "      <td>False</td>\n",
       "      <td>True</td>\n",
       "      <td>False</td>\n",
       "      <td>False</td>\n",
       "    </tr>\n",
       "    <tr>\n",
       "      <th>2</th>\n",
       "      <td>3</td>\n",
       "      <td>-0.284663</td>\n",
       "      <td>0</td>\n",
       "      <td>0</td>\n",
       "      <td>-0.507636</td>\n",
       "      <td>True</td>\n",
       "      <td>False</td>\n",
       "      <td>False</td>\n",
       "      <td>False</td>\n",
       "      <td>True</td>\n",
       "    </tr>\n",
       "    <tr>\n",
       "      <th>3</th>\n",
       "      <td>1</td>\n",
       "      <td>0.407926</td>\n",
       "      <td>1</td>\n",
       "      <td>0</td>\n",
       "      <td>0.865072</td>\n",
       "      <td>True</td>\n",
       "      <td>False</td>\n",
       "      <td>False</td>\n",
       "      <td>False</td>\n",
       "      <td>True</td>\n",
       "    </tr>\n",
       "    <tr>\n",
       "      <th>4</th>\n",
       "      <td>3</td>\n",
       "      <td>0.407926</td>\n",
       "      <td>0</td>\n",
       "      <td>0</td>\n",
       "      <td>-0.420068</td>\n",
       "      <td>False</td>\n",
       "      <td>True</td>\n",
       "      <td>False</td>\n",
       "      <td>False</td>\n",
       "      <td>True</td>\n",
       "    </tr>\n",
       "    <tr>\n",
       "      <th>...</th>\n",
       "      <td>...</td>\n",
       "      <td>...</td>\n",
       "      <td>...</td>\n",
       "      <td>...</td>\n",
       "      <td>...</td>\n",
       "      <td>...</td>\n",
       "      <td>...</td>\n",
       "      <td>...</td>\n",
       "      <td>...</td>\n",
       "      <td>...</td>\n",
       "    </tr>\n",
       "    <tr>\n",
       "      <th>886</th>\n",
       "      <td>2</td>\n",
       "      <td>-0.207709</td>\n",
       "      <td>0</td>\n",
       "      <td>0</td>\n",
       "      <td>-0.059456</td>\n",
       "      <td>False</td>\n",
       "      <td>True</td>\n",
       "      <td>False</td>\n",
       "      <td>False</td>\n",
       "      <td>True</td>\n",
       "    </tr>\n",
       "    <tr>\n",
       "      <th>887</th>\n",
       "      <td>1</td>\n",
       "      <td>-0.823344</td>\n",
       "      <td>0</td>\n",
       "      <td>0</td>\n",
       "      <td>0.558494</td>\n",
       "      <td>True</td>\n",
       "      <td>False</td>\n",
       "      <td>False</td>\n",
       "      <td>False</td>\n",
       "      <td>True</td>\n",
       "    </tr>\n",
       "    <tr>\n",
       "      <th>888</th>\n",
       "      <td>3</td>\n",
       "      <td>0.000000</td>\n",
       "      <td>1</td>\n",
       "      <td>2</td>\n",
       "      <td>0.271693</td>\n",
       "      <td>True</td>\n",
       "      <td>False</td>\n",
       "      <td>False</td>\n",
       "      <td>False</td>\n",
       "      <td>True</td>\n",
       "    </tr>\n",
       "    <tr>\n",
       "      <th>889</th>\n",
       "      <td>1</td>\n",
       "      <td>-0.284663</td>\n",
       "      <td>0</td>\n",
       "      <td>0</td>\n",
       "      <td>0.558494</td>\n",
       "      <td>False</td>\n",
       "      <td>True</td>\n",
       "      <td>True</td>\n",
       "      <td>False</td>\n",
       "      <td>False</td>\n",
       "    </tr>\n",
       "    <tr>\n",
       "      <th>890</th>\n",
       "      <td>3</td>\n",
       "      <td>0.177063</td>\n",
       "      <td>0</td>\n",
       "      <td>0</td>\n",
       "      <td>-0.885624</td>\n",
       "      <td>False</td>\n",
       "      <td>True</td>\n",
       "      <td>False</td>\n",
       "      <td>True</td>\n",
       "      <td>False</td>\n",
       "    </tr>\n",
       "  </tbody>\n",
       "</table>\n",
       "<p>891 rows × 10 columns</p>\n",
       "</div>"
      ],
      "text/plain": [
       "     Pclass       Age  SibSp  Parch      Fare  Sex_female  Sex_male  \\\n",
       "0         3 -0.592481      1      0 -1.124773       False      True   \n",
       "1         1  0.638789      1      0  1.038392        True     False   \n",
       "2         3 -0.284663      0      0 -0.507636        True     False   \n",
       "3         1  0.407926      1      0  0.865072        True     False   \n",
       "4         3  0.407926      0      0 -0.420068       False      True   \n",
       "..      ...       ...    ...    ...       ...         ...       ...   \n",
       "886       2 -0.207709      0      0 -0.059456       False      True   \n",
       "887       1 -0.823344      0      0  0.558494        True     False   \n",
       "888       3  0.000000      1      2  0.271693        True     False   \n",
       "889       1 -0.284663      0      0  0.558494       False      True   \n",
       "890       3  0.177063      0      0 -0.885624       False      True   \n",
       "\n",
       "     Embarked_C  Embarked_Q  Embarked_S  \n",
       "0         False       False        True  \n",
       "1          True       False       False  \n",
       "2         False       False        True  \n",
       "3         False       False        True  \n",
       "4         False       False        True  \n",
       "..          ...         ...         ...  \n",
       "886       False       False        True  \n",
       "887       False       False        True  \n",
       "888       False       False        True  \n",
       "889        True       False       False  \n",
       "890       False        True       False  \n",
       "\n",
       "[891 rows x 10 columns]"
      ]
     },
     "execution_count": 15,
     "metadata": {},
     "output_type": "execute_result"
    }
   ],
   "source": [
    "X_train"
   ]
  },
  {
   "cell_type": "code",
   "execution_count": 16,
   "id": "3901783c",
   "metadata": {
    "execution": {
     "iopub.execute_input": "2023-11-03T20:03:54.895080Z",
     "iopub.status.busy": "2023-11-03T20:03:54.894659Z",
     "iopub.status.idle": "2023-11-03T20:03:55.368314Z",
     "shell.execute_reply": "2023-11-03T20:03:55.367220Z"
    },
    "papermill": {
     "duration": 0.488885,
     "end_time": "2023-11-03T20:03:55.371565",
     "exception": false,
     "start_time": "2023-11-03T20:03:54.882680",
     "status": "completed"
    },
    "tags": []
   },
   "outputs": [
    {
     "data": {
      "image/png": "[encoded data removed]",
      "text/plain": [
       "<Figure size 640x480 with 1 Axes>"
      ]
     },
     "metadata": {},
     "output_type": "display_data"
    }
   ],
   "source": [
    "boxplot = X_train.boxplot() \n",
    "plt.xticks(rotation=90);"
   ]
  },
  {
   "cell_type": "code",
   "execution_count": 17,
   "id": "3445da48",
   "metadata": {
    "execution": {
     "iopub.execute_input": "2023-11-03T20:03:55.394594Z",
     "iopub.status.busy": "2023-11-03T20:03:55.394124Z",
     "iopub.status.idle": "2023-11-03T20:03:57.365247Z",
     "shell.execute_reply": "2023-11-03T20:03:57.363942Z"
    },
    "papermill": {
     "duration": 1.98626,
     "end_time": "2023-11-03T20:03:57.368284",
     "exception": false,
     "start_time": "2023-11-03T20:03:55.382024",
     "status": "completed"
    },
    "tags": []
   },
   "outputs": [
    {
     "data": {
      "image/png": "[encoded data removed]",
      "text/plain": [
       "<Figure size 3000x1500 with 15 Axes>"
      ]
     },
     "metadata": {},
     "output_type": "display_data"
    }
   ],
   "source": [
    "X_train.hist(figsize=(30,15), bins = 20, layout=(3,5));"
   ]
  },
  {
   "cell_type": "code",
   "execution_count": 18,
   "id": "a60c9a99",
   "metadata": {
    "execution": {
     "iopub.execute_input": "2023-11-03T20:03:57.394312Z",
     "iopub.status.busy": "2023-11-03T20:03:57.393873Z",
     "iopub.status.idle": "2023-11-03T20:03:57.405899Z",
     "shell.execute_reply": "2023-11-03T20:03:57.404322Z"
    },
    "papermill": {
     "duration": 0.028313,
     "end_time": "2023-11-03T20:03:57.409025",
     "exception": false,
     "start_time": "2023-11-03T20:03:57.380712",
     "status": "completed"
    },
    "tags": []
   },
   "outputs": [
    {
     "name": "stdout",
     "output_type": "stream",
     "text": [
      "Survived\n",
      "0           549\n",
      "1           342\n",
      "Name: count, dtype: int64\n"
     ]
    }
   ],
   "source": [
    "print(Y_train.value_counts())"
   ]
  },
  {
   "cell_type": "code",
   "execution_count": 19,
   "id": "d8917ef8",
   "metadata": {
    "execution": {
     "iopub.execute_input": "2023-11-03T20:03:57.433652Z",
     "iopub.status.busy": "2023-11-03T20:03:57.433200Z",
     "iopub.status.idle": "2023-11-03T20:03:57.444245Z",
     "shell.execute_reply": "2023-11-03T20:03:57.442702Z"
    },
    "papermill": {
     "duration": 0.026796,
     "end_time": "2023-11-03T20:03:57.446901",
     "exception": false,
     "start_time": "2023-11-03T20:03:57.420105",
     "status": "completed"
    },
    "tags": []
   },
   "outputs": [],
   "source": [
    "from sklearn.model_selection import train_test_split\n",
    "X_train_temp, X_test_temp, Y_train_temp, Y_test_temp = train_test_split(X_train, Y_train, test_size=0.33, random_state=42)"
   ]
  },
  {
   "cell_type": "code",
   "execution_count": 20,
   "id": "49a21e03",
   "metadata": {
    "execution": {
     "iopub.execute_input": "2023-11-03T20:03:57.471269Z",
     "iopub.status.busy": "2023-11-03T20:03:57.470784Z",
     "iopub.status.idle": "2023-11-03T20:03:57.478406Z",
     "shell.execute_reply": "2023-11-03T20:03:57.477189Z"
    },
    "papermill": {
     "duration": 0.022692,
     "end_time": "2023-11-03T20:03:57.481046",
     "exception": false,
     "start_time": "2023-11-03T20:03:57.458354",
     "status": "completed"
    },
    "tags": []
   },
   "outputs": [
    {
     "data": {
      "text/plain": [
       "False"
      ]
     },
     "execution_count": 20,
     "metadata": {},
     "output_type": "execute_result"
    }
   ],
   "source": [
    "X_test['Fare'].isnull().values.any()"
   ]
  },
  {
   "cell_type": "code",
   "execution_count": 21,
   "id": "fb51cea4",
   "metadata": {
    "execution": {
     "iopub.execute_input": "2023-11-03T20:03:57.505970Z",
     "iopub.status.busy": "2023-11-03T20:03:57.504750Z",
     "iopub.status.idle": "2023-11-03T20:04:03.458088Z",
     "shell.execute_reply": "2023-11-03T20:04:03.456704Z"
    },
    "papermill": {
     "duration": 5.968531,
     "end_time": "2023-11-03T20:04:03.460701",
     "exception": false,
     "start_time": "2023-11-03T20:03:57.492170",
     "status": "completed"
    },
    "tags": []
   },
   "outputs": [
    {
     "name": "stdout",
     "output_type": "stream",
     "text": [
      "Logistic Regression :  0.8135593220338984\n",
      "SVC :  0.823728813559322\n",
      "Random Forest :  0.7864406779661017\n"
     ]
    },
    {
     "name": "stderr",
     "output_type": "stream",
     "text": [
      "/opt/conda/lib/python3.10/site-packages/sklearn/neural_network/_multilayer_perceptron.py:686: ConvergenceWarning: Stochastic Optimizer: Maximum iterations (200) reached and the optimization hasn't converged yet.\n",
      "  warnings.warn(\n"
     ]
    },
    {
     "name": "stdout",
     "output_type": "stream",
     "text": [
      "Multi-Layer Perceptron :  0.823728813559322\n",
      "GaussianNB :  0.7728813559322034\n",
      "XGB :  0.7864406779661017\n",
      "LightGBM :  0.8203389830508474\n",
      "CatBoost :  0.8135593220338984\n"
     ]
    }
   ],
   "source": [
    "from sklearn.linear_model import LogisticRegression\n",
    "from sklearn.neural_network import MLPClassifier\n",
    "from sklearn.naive_bayes import GaussianNB\n",
    "from sklearn.ensemble import RandomForestClassifier\n",
    "from sklearn.svm import SVC\n",
    "from xgboost import XGBClassifier\n",
    "from catboost import CatBoostClassifier\n",
    "from lightgbm import LGBMClassifier\n",
    "from sklearn.pipeline import make_pipeline\n",
    "\n",
    "names = [\n",
    "    \"Logistic Regression\",\n",
    "    \"SVC\",\n",
    "    \"Random Forest\",\n",
    "    \"Multi-Layer Perceptron\",\n",
    "    \"GaussianNB\",\n",
    "    \"XGB\",\n",
    "    \"LightGBM\",\n",
    "    \"CatBoost\",\n",
    "]\n",
    "\n",
    "classifiers = [\n",
    "    LogisticRegression(),\n",
    "    SVC(),\n",
    "    RandomForestClassifier(),\n",
    "    MLPClassifier(),\n",
    "    GaussianNB(),\n",
    "    XGBClassifier(),\n",
    "    LGBMClassifier(),\n",
    "    CatBoostClassifier(verbose=0),\n",
    "    #CatBoostClassifier(verbose=0, n_estimators=35, max_depth=6),\n",
    "    \n",
    "]\n",
    "\n",
    "for name, clf in zip(names, classifiers):\n",
    "        clf = make_pipeline(StandardScaler(), clf)\n",
    "        clf.fit(X_train_temp, Y_train_temp.values.ravel())\n",
    "        score = clf.score(X_test_temp, Y_test_temp.values.ravel())\n",
    "        print(name, \": \", score)"
   ]
  },
  {
   "cell_type": "code",
   "execution_count": 22,
   "id": "f84aeb6e",
   "metadata": {
    "execution": {
     "iopub.execute_input": "2023-11-03T20:04:03.486441Z",
     "iopub.status.busy": "2023-11-03T20:04:03.486044Z",
     "iopub.status.idle": "2023-11-03T20:04:03.532367Z",
     "shell.execute_reply": "2023-11-03T20:04:03.531051Z"
    },
    "papermill": {
     "duration": 0.062257,
     "end_time": "2023-11-03T20:04:03.535287",
     "exception": false,
     "start_time": "2023-11-03T20:04:03.473030",
     "status": "completed"
    },
    "tags": []
   },
   "outputs": [],
   "source": [
    "clf = SVC()\n",
    "clf.fit(X_train, Y_train.values.ravel())\n",
    "survived = clf.predict(X_test)\n"
   ]
  },
  {
   "cell_type": "code",
   "execution_count": 23,
   "id": "ccf7ff02",
   "metadata": {
    "execution": {
     "iopub.execute_input": "2023-11-03T20:04:03.561434Z",
     "iopub.status.busy": "2023-11-03T20:04:03.561013Z",
     "iopub.status.idle": "2023-11-03T20:04:03.575101Z",
     "shell.execute_reply": "2023-11-03T20:04:03.573833Z"
    },
    "papermill": {
     "duration": 0.030242,
     "end_time": "2023-11-03T20:04:03.577777",
     "exception": false,
     "start_time": "2023-11-03T20:04:03.547535",
     "status": "completed"
    },
    "tags": []
   },
   "outputs": [],
   "source": [
    "final = pd.DataFrame(columns=['PassengerId','Survived'])\n",
    "final['PassengerId'] = test_ids\n",
    "final['Survived'] = survived\n",
    "final.to_csv('final.csv')"
   ]
  }
 ],
 "metadata": {
  "kernelspec": {
   "display_name": "Python 3",
   "language": "python",
   "name": "python3"
  },
  "language_info": {
   "codemirror_mode": {
    "name": "ipython",
    "version": 3
   },
   "file_extension": ".py",
   "mimetype": "text/x-python",
   "name": "python",
   "nbconvert_exporter": "python",
   "pygments_lexer": "ipython3",
   "version": "3.10.12"
  },
  "papermill": {
   "default_parameters": {},
   "duration": 16.958686,
   "end_time": "2023-11-03T20:04:04.515612",
   "environment_variables": {},
   "exception": null,
   "input_path": "__notebook__.ipynb",
   "output_path": "__notebook__.ipynb",
   "parameters": {},
   "start_time": "2023-11-03T20:03:47.556926",
   "version": "2.4.0"
  }
 },
 "nbformat": 4,
 "nbformat_minor": 5
}
